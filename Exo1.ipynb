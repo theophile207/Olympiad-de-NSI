{
 "cells": [
  {
   "cell_type": "code",
   "execution_count": 6,
   "metadata": {},
   "outputs": [
    {
     "name": "stdout",
     "output_type": "stream",
     "text": [
      "[0, 0, 1, 1, 2, 2, 3, 3, 4, 4, 5, 5, 6, 6, 7, 7, 8, 8, 9, 9, 11, 22, 33, 44, 55, 66, 77, 88, 99, 101, 111, 121, 131, 141, 151, 161, 171, 181, 191, 202, 212, 222, 232, 242, 252, 262, 272, 282, 292, 303, 313, 323, 333, 343, 353, 363, 373, 383, 393, 404, 414, 424, 434, 444, 454, 464, 474, 484, 494, 505, 515, 525, 535, 545, 555, 565, 575, 585, 595, 606, 616, 626, 636, 646, 656, 666, 676, 686, 696, 707, 717, 727, 737, 747, 757, 767, 777, 787, 797, 808, 818, 828, 838, 848, 858, 868, 878, 888, 898, 909, 919, 929, 939, 949, 959, 969, 979, 989, 999, 1001, 1011, 1021]\n",
      "111\n",
      "None\n"
     ]
    }
   ],
   "source": [
    "def palindromeic(a):\n",
    "    L= []\n",
    "    Temp = []\n",
    "    for i in range (a):\n",
    "        Temp = []\n",
    "        for n in str(i):\n",
    "            Temp.append(n)\n",
    "        if len(Temp) ==  1:\n",
    "            L.append(i)\n",
    "        if len(Temp) == 2 or 3:\n",
    "                if Temp[0] == Temp[-1]:\n",
    "                    L.append(i)\n",
    "        \n",
    "    print(L)\n",
    "    P = 0\n",
    "    D = 0\n",
    "    T = 0\n",
    "    N = []\n",
    "    for i in range(1200):\n",
    "        if L[P] + L[D] + L[T] == a:\n",
    "            N.append(L[T])\n",
    "            N.append(L[D])\n",
    "            N.append(L[P])\n",
    "        if L[P] == L[-1] and L[D] == L[-1] and L[T] == L[-1]:\n",
    "            return N\n",
    "        if L[D] == L[-1]:\n",
    "            P += 1\n",
    "            D = 0\n",
    "            if L[T] == L[-1]:\n",
    "                D = -1\n",
    "        if L[T] == L[-1]:\n",
    "            D += 1\n",
    "            T = 0\n",
    "        T += 1\n",
    "    print(T)\n",
    "\n",
    "\n",
    "\n",
    "print(palindromeic(1031))\n",
    "\n",
    "\n",
    "\n",
    "                \n",
    "\n"
   ]
  }
 ],
 "metadata": {
  "language_info": {
   "name": "python"
  }
 },
 "nbformat": 4,
 "nbformat_minor": 2
}
